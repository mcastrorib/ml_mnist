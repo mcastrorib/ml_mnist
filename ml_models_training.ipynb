{
 "cells": [
  {
   "cell_type": "code",
   "execution_count": 3,
   "id": "f66100f2",
   "metadata": {},
   "outputs": [],
   "source": [
    "import os\n",
    "import numpy as np\n",
    "import pandas as pd\n",
    "import matplotlib as mpl\n",
    "import matplotlib.pyplot as plt\n",
    "%matplotlib notebook\n",
    "import joblib\n",
    "from sklearn.model_selection import cross_val_score, cross_val_predict, GridSearchCV"
   ]
  },
  {
   "cell_type": "markdown",
   "id": "87439843",
   "metadata": {},
   "source": [
    "# Function definitions"
   ]
  },
  {
   "cell_type": "code",
   "execution_count": 4,
   "id": "ecd57540",
   "metadata": {},
   "outputs": [],
   "source": [
    "def display_scores(scores):\n",
    "    print(\"Scores:\",scores)\n",
    "    print(\"Mean:\",scores.mean())\n",
    "    print(\"Std dev:\",scores.std())\n",
    "    return\n",
    "    \n",
    "def display_cvgrid_scores(grid_search):\n",
    "    cvres = grid_search.cv_results_\n",
    "    for mean_score, params in zip(cvres[\"mean_test_score\"], cvres[\"params\"]):\n",
    "        print(mean_score, params)\n",
    "    return\n",
    "\n",
    "def apply_grid_search(classifier, X_data, y_data, params_grid, n_cvs=3, score='accuracy', display_scores=True):\n",
    "    grid_search = GridSearchCV(\n",
    "        classifier,\n",
    "        params_grid,\n",
    "        cv=n_cvs,\n",
    "        scoring=score,\n",
    "        return_train_score=True\n",
    "    )\n",
    "    \n",
    "    grid_search.fit(X_data, y_data)\n",
    "    if(display_scores):\n",
    "        display_cvgrid_scores(grid_search)\n",
    "    return grid_search.best_estimator_, grid_search.cv_results_[\"mean_test_score\"].max()"
   ]
  },
  {
   "cell_type": "markdown",
   "id": "60710684",
   "metadata": {},
   "source": [
    "# Import train data"
   ]
  },
  {
   "cell_type": "code",
   "execution_count": 6,
   "id": "06157afa",
   "metadata": {},
   "outputs": [],
   "source": [
    "train_set = pd.read_csv('datasets/mnist_train.csv')\n",
    "X_train = train_set.iloc[:,1:].values\n",
    "y_train = train_set.iloc[:,0].values"
   ]
  },
  {
   "cell_type": "code",
   "execution_count": 7,
   "id": "36d1393a",
   "metadata": {},
   "outputs": [],
   "source": [
    "from sklearn.model_selection import StratifiedShuffleSplit\n",
    "\n",
    "# Split original dataset in 30% for slower models\n",
    "split = StratifiedShuffleSplit(n_splits=1, test_size=0.7, random_state=42)\n",
    "for train_idx, test_idx in split.split(train_set, train_set.label):\n",
    "    strat_train_set = train_set.loc[train_idx]\n",
    "    strat_test_set = train_set.loc[test_idx]\n",
    "\n",
    "strat_X_train = strat_train_set.iloc[:,1:].values\n",
    "strat_y_train = strat_train_set.iloc[:,0].values"
   ]
  },
  {
   "cell_type": "code",
   "execution_count": 11,
   "id": "45165909",
   "metadata": {},
   "outputs": [],
   "source": [
    "# Dimension reduction with PCA\n",
    "pca = joblib.load('models/pca_transformer.pkl')\n",
    "X_train_reduced = pca.transform(X_train)\n",
    "strat_X_train_reduced = pca.transform(strat_X_train)"
   ]
  },
  {
   "cell_type": "markdown",
   "id": "c6365741",
   "metadata": {},
   "source": [
    "# Models"
   ]
  },
  {
   "cell_type": "code",
   "execution_count": 5,
   "id": "c863c04f",
   "metadata": {},
   "outputs": [],
   "source": [
    "from sklearn.linear_model import SGDClassifier\n",
    "from sklearn.linear_model import LogisticRegression\n",
    "from sklearn.naive_bayes import GaussianNB\n",
    "from sklearn.neighbors import KNeighborsClassifier\n",
    "from sklearn.tree import DecisionTreeClassifier\n",
    "from sklearn.svm import SVC\n",
    "from sklearn.ensemble import RandomForestClassifier\n",
    "from sklearn.ensemble import VotingClassifier"
   ]
  },
  {
   "cell_type": "markdown",
   "id": "ddbff341",
   "metadata": {},
   "source": [
    "## SGD Classifier"
   ]
  },
  {
   "cell_type": "code",
   "execution_count": null,
   "id": "015e2072",
   "metadata": {},
   "outputs": [],
   "source": [
    "params_grid = [\n",
    "    {'penalty': ['l2'], 'alpha':[0.001, 0.01, 0.1, 1.0, 10.00]},\n",
    "    {'penalty':['elasticnet'], 'l1_ratio':[0.15,0.5,0.85], 'alpha':[0.01]}\n",
    "]\n",
    "\n",
    "sgd_clf, sgd_acc = apply_grid_search(\n",
    "    SGDClassifier(random_state=42,n_jobs=-1,max_iter=10000),\n",
    "    X_train_reduced,\n",
    "    y_train,\n",
    "    params_grid\n",
    ")"
   ]
  },
  {
   "cell_type": "code",
   "execution_count": null,
   "id": "fe95a898",
   "metadata": {},
   "outputs": [],
   "source": [
    "sgd_clf.fit(X_train_reduced, y_train)\n",
    "joblib.dump(sgd_clf, 'models/sgd_clf.pkl')"
   ]
  },
  {
   "cell_type": "markdown",
   "id": "49e261c9",
   "metadata": {},
   "source": [
    "## Logit Classifier"
   ]
  },
  {
   "cell_type": "code",
   "execution_count": null,
   "id": "7857570d",
   "metadata": {},
   "outputs": [],
   "source": [
    "params_grid = [\n",
    "    {'C':[0.1,1.0,10.0]}\n",
    "]\n",
    "\n",
    "logit_clf, logit_acc = apply_grid_search(\n",
    "    LogisticRegression(solver='sag', max_iter=300, n_jobs=-1),\n",
    "    X_train_reduced,\n",
    "    y_train,\n",
    "    params_grid\n",
    ")"
   ]
  },
  {
   "cell_type": "code",
   "execution_count": null,
   "id": "5373fd9e",
   "metadata": {},
   "outputs": [],
   "source": [
    "logit_clf.fit(X_train_reduced, y_train)\n",
    "joblib.dump(logit_clf, 'models/logit_clf.pkl')"
   ]
  },
  {
   "cell_type": "markdown",
   "id": "56d292ce",
   "metadata": {},
   "source": [
    "## KNN Classifier"
   ]
  },
  {
   "cell_type": "code",
   "execution_count": null,
   "id": "e15f0ada",
   "metadata": {},
   "outputs": [],
   "source": [
    "params_grid = [\n",
    "    {'n_neighbors': [1,3,5], 'weights':['uniform','distance']}\n",
    "]\n",
    "\n",
    "knn_clf, knn_acc = apply_grid_search(\n",
    "    KNeighborsClassifier(n_jobs=-1),\n",
    "    X_train_reduced,\n",
    "    y_train,\n",
    "    params_grid\n",
    ")"
   ]
  },
  {
   "cell_type": "code",
   "execution_count": null,
   "id": "58528212",
   "metadata": {},
   "outputs": [],
   "source": [
    "knn_clf.fit(X_train_reduced, y_train)\n",
    "joblib.dump(knn_clf, 'models/knn_clf.pkl')"
   ]
  },
  {
   "cell_type": "markdown",
   "id": "987174ee",
   "metadata": {},
   "source": [
    "## Gaussian Naive-Bayes Classifier"
   ]
  },
  {
   "cell_type": "code",
   "execution_count": null,
   "id": "e9db4363",
   "metadata": {},
   "outputs": [],
   "source": [
    "params_grid = [\n",
    "    {'var_smoothing': np.logspace(-10,-1,10)}\n",
    "]\n",
    "\n",
    "gnb_clf, gnb_acc = apply_grid_search(\n",
    "    GaussianNB(),\n",
    "    X_train_reduced,\n",
    "    y_train,\n",
    "    params_grid\n",
    ")"
   ]
  },
  {
   "cell_type": "code",
   "execution_count": null,
   "id": "8ac3a5a5",
   "metadata": {},
   "outputs": [],
   "source": [
    "gnb_clf.fit(X_train_reduced, y_train)\n",
    "joblib.dump(gnb_clf, 'models/gnb_clf.pkl')"
   ]
  },
  {
   "cell_type": "markdown",
   "id": "c639c51c",
   "metadata": {},
   "source": [
    "## Decision Tree Classifier"
   ]
  },
  {
   "cell_type": "code",
   "execution_count": null,
   "id": "0ece4ddd",
   "metadata": {},
   "outputs": [],
   "source": [
    "params_grid = [\n",
    "    {'splitter': ['best'], 'max_depth':[10,30,50]},\n",
    "    {'splitter': ['random'], 'max_depth':[10,30,50]}\n",
    "]\n",
    "\n",
    "tree_clf, tree_acc = apply_grid_search(\n",
    "    DecisionTreeClassifier(),\n",
    "    X_train_reduced,\n",
    "    y_train,\n",
    "    params_grid\n",
    ")"
   ]
  },
  {
   "cell_type": "code",
   "execution_count": null,
   "id": "e8e5c3fa",
   "metadata": {},
   "outputs": [],
   "source": [
    "tree_clf.fit(X_train_reduced, y_train)\n",
    "joblib.dump(tree_clf, 'models/tree_clf.pkl')"
   ]
  },
  {
   "cell_type": "markdown",
   "id": "bd1967b8",
   "metadata": {},
   "source": [
    "## SVM Classifier"
   ]
  },
  {
   "cell_type": "code",
   "execution_count": null,
   "id": "6a24a306",
   "metadata": {},
   "outputs": [],
   "source": [
    "params_grid = [\n",
    "    {'kernel': ['rbf'], 'C':[10.0,100.0,1000.0]},\n",
    "    {'kernel': ['poly'], 'degree':[3], 'C':[10.0,100.0,1000.0]}\n",
    "]\n",
    "\n",
    "svc_clf, svc_acc = apply_grid_search(\n",
    "    SVC(random_state=42),\n",
    "    X_train_reduced,\n",
    "    y_train,\n",
    "    params_grid\n",
    ")"
   ]
  },
  {
   "cell_type": "code",
   "execution_count": null,
   "id": "a4d44da7",
   "metadata": {},
   "outputs": [],
   "source": [
    "svc_clf.fit(X_train_reduced, y_train)\n",
    "joblib.dump(svc_clf, 'models/svc_clf.pkl')"
   ]
  },
  {
   "cell_type": "markdown",
   "id": "ff865c59",
   "metadata": {},
   "source": [
    "## Random Forest Classifier"
   ]
  },
  {
   "cell_type": "code",
   "execution_count": null,
   "id": "de0df354",
   "metadata": {},
   "outputs": [],
   "source": [
    "params_grid = [\n",
    "    {'max_features':['sqrt', 'log2', 10]}\n",
    "]\n",
    "\n",
    "rf_clf, rf_acc = apply_grid_search(\n",
    "    RandomForestClassifier(n_estimators=500, random_state=42, n_jobs=-1),\n",
    "    X_train_reduced,\n",
    "    y_train,\n",
    "    params_grid\n",
    ")"
   ]
  },
  {
   "cell_type": "code",
   "execution_count": null,
   "id": "53266938",
   "metadata": {},
   "outputs": [],
   "source": [
    "rf_clf.fit(X_train_reduced, y_train)\n",
    "joblib.dump(rf_clf, 'models/rf_clf.pkl')"
   ]
  },
  {
   "cell_type": "markdown",
   "id": "fa240889",
   "metadata": {},
   "source": [
    "## Hard-voting Ensemble"
   ]
  },
  {
   "cell_type": "code",
   "execution_count": null,
   "id": "a841f5a5",
   "metadata": {},
   "outputs": [],
   "source": [
    "hve_clf = VotingClassifier(\n",
    "    estimators=[\n",
    "        ('sgd', SGDClassifier(alpha=1.0, max_iter=10000, random_state=42)), \n",
    "        ('logit', LogisticRegression(C=0.1, max_iter=300, solver='sag')), \n",
    "        ('knn', KNeighborsClassifier(n_neighbors=3, weights='distance')),\n",
    "        ('gnb', GaussianNB(var_smoothing=0.001)),\n",
    "        ('tree', DecisionTreeClassifier(max_depth=30)),\n",
    "        ('svc', SVC(C=10.0, random_state=42)),\n",
    "    ],\n",
    "    n_jobs=-1,\n",
    "    voting='hard'\n",
    ")\n",
    "\n",
    "hve_scores = cross_val_score(\n",
    "    ehv_clf,\n",
    "    X_train_reduced,\n",
    "    y_train,\n",
    "    scoring = \"accuracy\",\n",
    "    cv=3\n",
    ")\n",
    "\n",
    "display_scores(hve_scores)\n",
    "hve_acc = hve_scores.mean()"
   ]
  },
  {
   "cell_type": "code",
   "execution_count": null,
   "id": "d2830f72",
   "metadata": {},
   "outputs": [],
   "source": [
    "hve_clf.fit(X_train_reduced, y_train)\n",
    "joblib.dump(hve_clf, 'models/hve_clf.pkl')"
   ]
  },
  {
   "cell_type": "markdown",
   "id": "cfe5055d",
   "metadata": {},
   "source": [
    "## Soft-voting Ensemble"
   ]
  },
  {
   "cell_type": "code",
   "execution_count": null,
   "id": "8370d768",
   "metadata": {},
   "outputs": [],
   "source": [
    "sve_clf = VotingClassifier(\n",
    "    estimators=[\n",
    "        ('logit', LogisticRegression(C=0.1, max_iter=300, solver='sag')), \n",
    "        ('knn', KNeighborsClassifier(n_neighbors=3, weights='distance')),\n",
    "        ('svc', SVC(C=10.0, random_state=42, probability=True)),\n",
    "    ],\n",
    "    n_jobs=-1,\n",
    "    voting='soft'\n",
    ")\n",
    "\n",
    "sve_scores = cross_val_score(\n",
    "    sve_clf,\n",
    "    X_train_reduced,\n",
    "    y_train,\n",
    "    scoring = \"accuracy\",\n",
    "    cv=3\n",
    ")\n",
    "\n",
    "display_scores(sve_scores)\n",
    "sve_acc = sve_scores.mean()"
   ]
  },
  {
   "cell_type": "code",
   "execution_count": null,
   "id": "7b371b5b",
   "metadata": {},
   "outputs": [],
   "source": [
    "sve_clf.fit(X_train_reduced, y_train)\n",
    "joblib.dump(sve_clf, 'models/sve_clf.pkl')"
   ]
  },
  {
   "cell_type": "markdown",
   "id": "1de859b3",
   "metadata": {},
   "source": [
    "# Show accuracies"
   ]
  },
  {
   "cell_type": "code",
   "execution_count": null,
   "id": "b77cbc06",
   "metadata": {},
   "outputs": [],
   "source": [
    "models = [sgd_clf, logit_clf, knn_clf, gnb_clf, tree_clf, svc_clf, rf_clf, ehv_clf, esv_clf]\n",
    "accs = [sgd_acc, logit_acc, knn_acc, gnb_acc, tree_acc, svc_acc, rf_acc, ehv_acc, esv_acc]\n",
    "names = ['SGD', 'Logit', 'KNN', 'GNB', 'Tree', 'SVC', 'RF', 'HVE', 'SVE']\n",
    "\n",
    "fig, axs = plt.subplots(1,1,figsize=(4,4),constrained_layout=True)\n",
    "\n",
    "axs.bar(np.arange(len(models)), accs)\n",
    "axs.set_xticks(names)"
   ]
  }
 ],
 "metadata": {
  "kernelspec": {
   "display_name": "Python 3 (ipykernel)",
   "language": "python",
   "name": "python3"
  },
  "language_info": {
   "codemirror_mode": {
    "name": "ipython",
    "version": 3
   },
   "file_extension": ".py",
   "mimetype": "text/x-python",
   "name": "python",
   "nbconvert_exporter": "python",
   "pygments_lexer": "ipython3",
   "version": "3.9.12"
  }
 },
 "nbformat": 4,
 "nbformat_minor": 5
}
