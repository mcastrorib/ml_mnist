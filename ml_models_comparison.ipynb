{
 "cells": [
  {
   "cell_type": "code",
   "execution_count": 1,
   "id": "f184f95f",
   "metadata": {},
   "outputs": [],
   "source": [
    "import os\n",
    "import numpy as np\n",
    "import pandas as pd\n",
    "import matplotlib as mpl\n",
    "import matplotlib.pyplot as plt\n",
    "%matplotlib notebook\n",
    "import joblib\n",
    "from sklearn.model_selection import cross_val_score, cross_val_predict, GridSearchCV"
   ]
  },
  {
   "cell_type": "markdown",
   "id": "67b32f62",
   "metadata": {},
   "source": [
    "# Import data"
   ]
  },
  {
   "cell_type": "code",
   "execution_count": null,
   "id": "258a4caa",
   "metadata": {},
   "outputs": [],
   "source": [
    "train_set = pd.read_csv('datasets/mnist_train.csv')\n",
    "X_train = train_set.iloc[:,1:].values\n",
    "y_train = train_set.iloc[:,0].values\n",
    "\n",
    "# Dimension reduction with PCA\n",
    "pca = joblib.load('models/pca_transformer.pkl')\n",
    "X_train_reduced = pca.transform(X_train)"
   ]
  },
  {
   "cell_type": "markdown",
   "id": "58dee447",
   "metadata": {},
   "source": [
    "# Import trained models"
   ]
  },
  {
   "cell_type": "code",
   "execution_count": 2,
   "id": "e0d6ee6c",
   "metadata": {},
   "outputs": [
    {
     "ename": "FileNotFoundError",
     "evalue": "[Errno 2] No such file or directory: 'models/ehv_clf.pkl'",
     "output_type": "error",
     "traceback": [
      "\u001b[0;31m---------------------------------------------------------------------------\u001b[0m",
      "\u001b[0;31mFileNotFoundError\u001b[0m                         Traceback (most recent call last)",
      "Input \u001b[0;32mIn [2]\u001b[0m, in \u001b[0;36m<cell line: 8>\u001b[0;34m()\u001b[0m\n\u001b[1;32m      6\u001b[0m svc_clf \u001b[38;5;241m=\u001b[39m joblib\u001b[38;5;241m.\u001b[39mload(\u001b[38;5;124m'\u001b[39m\u001b[38;5;124mmodels/svc_clf.pkl\u001b[39m\u001b[38;5;124m'\u001b[39m)\n\u001b[1;32m      7\u001b[0m rf_clf \u001b[38;5;241m=\u001b[39m joblib\u001b[38;5;241m.\u001b[39mload(\u001b[38;5;124m'\u001b[39m\u001b[38;5;124mmodels/rf_clf.pkl\u001b[39m\u001b[38;5;124m'\u001b[39m)\n\u001b[0;32m----> 8\u001b[0m ehv_clf \u001b[38;5;241m=\u001b[39m \u001b[43mjoblib\u001b[49m\u001b[38;5;241;43m.\u001b[39;49m\u001b[43mload\u001b[49m\u001b[43m(\u001b[49m\u001b[38;5;124;43m'\u001b[39;49m\u001b[38;5;124;43mmodels/ehv_clf.pkl\u001b[39;49m\u001b[38;5;124;43m'\u001b[39;49m\u001b[43m)\u001b[49m\n\u001b[1;32m      9\u001b[0m esv_clf \u001b[38;5;241m=\u001b[39m joblib\u001b[38;5;241m.\u001b[39mload(\u001b[38;5;124m'\u001b[39m\u001b[38;5;124mmodels/esv_clf.pkl\u001b[39m\u001b[38;5;124m'\u001b[39m)\n",
      "File \u001b[0;32m~/anaconda3/lib/python3.9/site-packages/joblib/numpy_pickle.py:579\u001b[0m, in \u001b[0;36mload\u001b[0;34m(filename, mmap_mode)\u001b[0m\n\u001b[1;32m    577\u001b[0m         obj \u001b[38;5;241m=\u001b[39m _unpickle(fobj)\n\u001b[1;32m    578\u001b[0m \u001b[38;5;28;01melse\u001b[39;00m:\n\u001b[0;32m--> 579\u001b[0m     \u001b[38;5;28;01mwith\u001b[39;00m \u001b[38;5;28;43mopen\u001b[39;49m\u001b[43m(\u001b[49m\u001b[43mfilename\u001b[49m\u001b[43m,\u001b[49m\u001b[43m \u001b[49m\u001b[38;5;124;43m'\u001b[39;49m\u001b[38;5;124;43mrb\u001b[39;49m\u001b[38;5;124;43m'\u001b[39;49m\u001b[43m)\u001b[49m \u001b[38;5;28;01mas\u001b[39;00m f:\n\u001b[1;32m    580\u001b[0m         \u001b[38;5;28;01mwith\u001b[39;00m _read_fileobject(f, filename, mmap_mode) \u001b[38;5;28;01mas\u001b[39;00m fobj:\n\u001b[1;32m    581\u001b[0m             \u001b[38;5;28;01mif\u001b[39;00m \u001b[38;5;28misinstance\u001b[39m(fobj, \u001b[38;5;28mstr\u001b[39m):\n\u001b[1;32m    582\u001b[0m                 \u001b[38;5;66;03m# if the returned file object is a string, this means we\u001b[39;00m\n\u001b[1;32m    583\u001b[0m                 \u001b[38;5;66;03m# try to load a pickle file generated with an version of\u001b[39;00m\n\u001b[1;32m    584\u001b[0m                 \u001b[38;5;66;03m# Joblib so we load it with joblib compatibility function.\u001b[39;00m\n",
      "\u001b[0;31mFileNotFoundError\u001b[0m: [Errno 2] No such file or directory: 'models/ehv_clf.pkl'"
     ]
    }
   ],
   "source": [
    "sgd_clf = joblib.load('models/sgd_clf.pkl')\n",
    "logit_clf = joblib.load('models/logit_clf.pkl')\n",
    "knn_clf = joblib.load('models/knn_clf.pkl')\n",
    "gnb_clf = joblib.load('models/gnb_clf.pkl')\n",
    "tree_clf = joblib.load('models/tree_clf.pkl')\n",
    "svc_clf = joblib.load('models/svc_clf.pkl')\n",
    "rf_clf = joblib.load('models/rf_clf.pkl')\n",
    "ehv_clf = joblib.load('models/hve_clf.pkl')\n",
    "esv_clf = joblib.load('models/sve_clf.pkl')"
   ]
  },
  {
   "cell_type": "markdown",
   "id": "5a96db80",
   "metadata": {},
   "source": [
    "# Compare model's performances"
   ]
  },
  {
   "cell_type": "code",
   "execution_count": null,
   "id": "76c1b9cb",
   "metadata": {},
   "outputs": [],
   "source": [
    "models = [sgd_clf, logit_clf, knn_clf, gnb_clf, tree_clf, svc_clf, rf_clf, ehv_clf, esv_clf]\n",
    "accs = [sgd_acc, logit_acc, knn_acc, gnb_acc, tree_acc, svc_acc, rf_acc, ehv_acc, esv_acc]\n",
    "preds = []\n",
    "for model in models:\n",
    "    print(model)\n",
    "    preds.append(cross_val_predict(model,X_train_reduced,y_train,cv=3))"
   ]
  },
  {
   "cell_type": "code",
   "execution_count": null,
   "id": "f87b7525",
   "metadata": {},
   "outputs": [],
   "source": [
    "from sklearn.metrics import confusion_matrix\n",
    "\n",
    "n_models = len(models)\n",
    "rows = n_models \n",
    "cols = 2\n",
    "\n",
    "fig, axs = plt.subplots(rows, cols, figsize=(2*cols,1.8*rows), constrained_layout=True)\n",
    "\n",
    "for row in range(rows):\n",
    "    conf_mx = confusion_matrix(y_train, preds[row])\n",
    "    row_sums = conf_mx.sum(axis=1, keepdims=True)\n",
    "    norm_conf_mx = conf_mx / row_sums\n",
    "    np.fill_diagonal(norm_conf_mx, 0)\n",
    "    axs[row][0].matshow(conf_mx, cmap=plt.cm.gray)\n",
    "    axs[row][1].matshow(norm_conf_mx, cmap=plt.cm.gray)\n",
    "    axs[row][0].set_title(str(models[row])[:10])\n",
    "    axs[row][1].set_title(f\"acc: {100*accs[row]:.2f}%\")\n",
    "    \n",
    "for ax in axs.flatten():\n",
    "    ax.axis('off')"
   ]
  },
  {
   "cell_type": "code",
   "execution_count": null,
   "id": "2ef1b934",
   "metadata": {},
   "outputs": [],
   "source": [
    "plt.close()"
   ]
  }
 ],
 "metadata": {
  "kernelspec": {
   "display_name": "Python 3 (ipykernel)",
   "language": "python",
   "name": "python3"
  },
  "language_info": {
   "codemirror_mode": {
    "name": "ipython",
    "version": 3
   },
   "file_extension": ".py",
   "mimetype": "text/x-python",
   "name": "python",
   "nbconvert_exporter": "python",
   "pygments_lexer": "ipython3",
   "version": "3.9.12"
  }
 },
 "nbformat": 4,
 "nbformat_minor": 5
}
